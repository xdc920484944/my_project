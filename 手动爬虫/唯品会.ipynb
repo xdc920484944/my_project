{
 "cells": [
  {
   "cell_type": "code",
   "execution_count": 2,
   "metadata": {
    "collapsed": true,
    "pycharm": {
     "is_executing": false
    }
   },
   "outputs": [],
   "source": [
    "import pandas\n",
    "from tool_fun import ToolFunction\n",
    "import requests\n",
    "import os\n",
    "driver = ToolFunction.creat_driver(shoudong=True)\n",
    "result = []"
   ]
  },
  {
   "cell_type": "code",
   "execution_count": 4,
   "outputs": [
    {
     "name": "stdout",
     "text": [
      "7 Message: no such element: Unable to locate element: {\"method\":\"xpath\",\"selector\":\"./a//*[@class=\"c-goods-item__name  c-goods-item__name--two-line\"]\"}\n  (Session info: chrome=88.0.4324.96)\n\n",
      "7 Message: no such element: Unable to locate element: {\"method\":\"xpath\",\"selector\":\"./a//*[@class=\"c-goods-item__name  c-goods-item__name--two-line\"]\"}\n  (Session info: chrome=88.0.4324.96)\n\n",
      "7 Message: no such element: Unable to locate element: {\"method\":\"xpath\",\"selector\":\"./a//*[@class=\"c-goods-item__name  c-goods-item__name--two-line\"]\"}\n  (Session info: chrome=88.0.4324.96)\n\n",
      "7 Message: no such element: Unable to locate element: {\"method\":\"xpath\",\"selector\":\"./a//*[@class=\"c-goods-item__name  c-goods-item__name--two-line\"]\"}\n  (Session info: chrome=88.0.4324.96)\n\n7 Message: no such element: Unable to locate element: {\"method\":\"xpath\",\"selector\":\"./a//*[@class=\"c-goods-item__name  c-goods-item__name--two-line\"]\"}\n  (Session info: chrome=88.0.4324.96)\n\n",
      "7 Message: no such element: Unable to locate element: {\"method\":\"xpath\",\"selector\":\"./a//*[@class=\"c-goods-item__name  c-goods-item__name--two-line\"]\"}\n  (Session info: chrome=88.0.4324.96)\n\n7 Message: no such element: Unable to locate element: {\"method\":\"xpath\",\"selector\":\"./a//*[@class=\"c-goods-item__name  c-goods-item__name--two-line\"]\"}\n  (Session info: chrome=88.0.4324.96)\n\n",
      "7 Message: no such element: Unable to locate element: {\"method\":\"xpath\",\"selector\":\"./a//*[@class=\"c-goods-item__name  c-goods-item__name--two-line\"]\"}\n  (Session info: chrome=88.0.4324.96)\n\n7 Message: no such element: Unable to locate element: {\"method\":\"xpath\",\"selector\":\"./a//*[@class=\"c-goods-item__name  c-goods-item__name--two-line\"]\"}\n  (Session info: chrome=88.0.4324.96)\n\n",
      "111\n"
     ],
     "output_type": "stream"
    }
   ],
   "source": [
    "divs = driver.find_elements_by_xpath('//*[@id=\"J_searchCatList\"]/div[@class=\"c-goods-item  J-goods-item c-goods-item--auto-width\"]')\n",
    "for div in divs:\n",
    "    try:\n",
    "        goods_href = div.find_element_by_xpath('./a').get_attribute('href')\n",
    "        img_href = div.find_element_by_xpath('./a//img[@class=\"J-goods-item__img\"]').get_attribute('src')\n",
    "        price = div.find_element_by_xpath('./a//*[@class=\"c-goods-item__sale-price J-goods-item__sale-price\"]').text\n",
    "        goods_name = div.find_element_by_xpath('./a//*[@class=\"c-goods-item__name  c-goods-item__name--two-line\"]').text\n",
    "        result.append({'名称':goods_name, '价格':price, '商品连接':goods_href, '图片连接':img_href})\n",
    "    except Exception as e:\n",
    "        print(e.__traceback__.tb_lineno, e)\n",
    "print(len(result))"
   ],
   "metadata": {
    "collapsed": false,
    "pycharm": {
     "name": "#%%\n",
     "is_executing": false
    }
   }
  },
  {
   "cell_type": "code",
   "execution_count": 5,
   "outputs": [],
   "source": [
    "pandas.DataFrame(result).to_csv('唯品会数据/指甲贴.csv')"
   ],
   "metadata": {
    "collapsed": false,
    "pycharm": {
     "name": "#%% 生成csv\n",
     "is_executing": false
    }
   }
  },
  {
   "cell_type": "code",
   "execution_count": 3,
   "outputs": [
    {
     "name": "stdout",
     "text": [
      "{'code': 0, 'success': True, 'data': 53.545}\n",
      "0\n10\n20\n",
      "30\n",
      "40\n",
      "50\n",
      "60\n",
      "70\n",
      "80\n",
      "90\n",
      "100\n",
      "110\n"
     ],
     "output_type": "stream"
    }
   ],
   "source": [
    "proxies = ToolFunction.get_proxies('15m') \n",
    "headers = {\n",
    "    'user-agent': 'Mozilla/5.0 (Windows NT 10.0; Win64; x64) AppleWebKit/537.36 (KHTML, like Gecko) Chrome/88.0.4324.96 Safari/537.36',\n",
    "    'accept': 'text/html,application/xhtml+xml,application/xml;q=0.9,image/avif,image/webp,image/apng,*/*;q=0.8,application/signed-exchange;v=b3;q=0.9',\n",
    "    'accept-encoding': 'gzip, deflate, br',\n",
    "    'accept-language': 'zh-CN,zh;q=0.9,en;q=0.8',\n",
    "    'cache-control': 'no-cache',\n",
    "    'pragma': 'no-cache',\n",
    "    'sec-fetch-dest': 'document',\n",
    "    'sec-fetch-mode': 'navigate',\n",
    "    'sec-fetch-site': 'none',\n",
    "    'sec-fetch-user': '?1',\n",
    "    'upgrade-insecure-requests': '1',}\n",
    "all_img_href = list(pandas.read_csv('唯品会数据/指甲贴.csv').to_dict()['图片连接'].values())\n",
    "for href in all_img_href:\n",
    "    if all_img_href.index(href)%10 == 0:\n",
    "        print(all_img_href.index(href))\n",
    "    try:\n",
    "        img_name = href.split('/')[-1]\n",
    "        path = '唯品会数据/指甲贴图片/'+ img_name\n",
    "        if not os.path.isfile(path): \n",
    "            res = requests.get(url=href, headers=headers, proxies=proxies)\n",
    "            if 200 <= res.status_code < 300:\n",
    "                with open(path, 'wb') as f:\n",
    "                    f.write(res.content)\n",
    "    except Exception as e:\n",
    "        print(e.__traceback__.tb_lineno, e, href)"
   ],
   "metadata": {
    "collapsed": false,
    "pycharm": {
     "name": "#%% 下载图片\n",
     "is_executing": false
    }
   }
  }
 ],
 "metadata": {
  "language_info": {
   "codemirror_mode": {
    "name": "ipython",
    "version": 2
   },
   "file_extension": ".py",
   "mimetype": "text/x-python",
   "name": "python",
   "nbconvert_exporter": "python",
   "pygments_lexer": "ipython2",
   "version": "2.7.6"
  },
  "kernelspec": {
   "name": "python3",
   "language": "python",
   "display_name": "Python 3"
  },
  "pycharm": {
   "stem_cell": {
    "cell_type": "raw",
    "source": [],
    "metadata": {
     "collapsed": false
    }
   }
  }
 },
 "nbformat": 4,
 "nbformat_minor": 0
}