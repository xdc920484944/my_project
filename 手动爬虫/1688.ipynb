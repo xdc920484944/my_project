{
 "cells": [
  {
   "cell_type": "code",
   "execution_count": 2,
   "metadata": {
    "collapsed": true,
    "pycharm": {
     "is_executing": false
    }
   },
   "outputs": [],
   "source": [
    "import pandas\n",
    "import json\n",
    "from tool_fun import ToolFunction\n",
    "import requests\n",
    "import os\n",
    "driver = ToolFunction.creat_driver(shoudong=True)\n",
    "result = []"
   ]
  },
  {
   "cell_type": "code",
   "execution_count": 4,
   "outputs": [
    {
     "name": "stdout",
     "text": [
      "4 Message: no such element: Unable to locate element: {\"method\":\"xpath\",\"selector\":\"./a\"}\n  (Session info: chrome=88.0.4324.96)\n\n",
      "129\n"
     ],
     "output_type": "stream"
    }
   ],
   "source": [
    "lis = driver.find_elements_by_xpath('//*[@class=\"mt20 over_hide w_1210 offer_list\"]/div')\n",
    "for l in lis:\n",
    "    try:\n",
    "        goods_href = l.find_element_by_xpath('./a').get_attribute('href')\n",
    "        img_href = l.find_element_by_xpath('./a//img[@class=\"layLoad\"]').get_attribute('src')\n",
    "        goods_name = l.find_element_by_xpath('./a//*[@class=\"title\"]').text\n",
    "        price = l.find_element_by_xpath('./a//*[@class=\"price\"]').text\n",
    "        result.append({'名称':goods_name, '价格':price, '商品连接':goods_href, '图片连接':img_href})\n",
    "    except Exception as e:\n",
    "        print(e.__traceback__.tb_lineno, e)\n",
    "print(len(result))"
   ],
   "metadata": {
    "collapsed": false,
    "pycharm": {
     "name": "#%%\n",
     "is_executing": false
    }
   }
  },
  {
   "cell_type": "code",
   "execution_count": 5,
   "outputs": [],
   "source": [
    "pandas.DataFrame(result).to_csv('1688数据/指甲贴.csv')"
   ],
   "metadata": {
    "collapsed": false,
    "pycharm": {
     "name": "#%% 生成csv\n",
     "is_executing": false
    }
   }
  },
  {
   "cell_type": "code",
   "execution_count": 6,
   "outputs": [
    {
     "name": "stdout",
     "text": [
      "{'code': 0, 'success': True, 'data': 53.525}\n",
      "0\n",
      "0\n20\n",
      "40\n",
      "50\n",
      "60\n",
      "80\n",
      "90\n",
      "100\n",
      "120\n"
     ],
     "output_type": "stream"
    }
   ],
   "source": [
    "proxies = ToolFunction.get_proxies('15m') \n",
    "headers = {'user-agent': 'Mozilla/5.0 (Windows NT 10.0; Win64; x64) AppleWebKit/537.36 (KHTML, like Gecko) Chrome/88.0.4324.96 Safari/537.36'}\n",
    "all_img_href = list(pandas.read_csv('1688数据/指甲贴.csv').to_dict()['图片连接'].values())\n",
    "for href in all_img_href:\n",
    "    if all_img_href.index(href)%10 == 0:\n",
    "        print(all_img_href.index(href))\n",
    "    try:\n",
    "        img_name = href.split('/')[-1].replace('?_=2020', '')\n",
    "        path = '1688数据/指甲贴图片/'+ img_name\n",
    "        if not os.path.isfile(path): \n",
    "            res = requests.get(url=href, headers=headers, proxies=proxies)\n",
    "            if 200 <= res.status_code < 300:\n",
    "                with open(path, 'wb') as f:\n",
    "                    f.write(res.content)\n",
    "    except Exception as e:\n",
    "        print(e.__traceback__.tb_lineno, e, href)\n",
    "    \n",
    "\n"
   ],
   "metadata": {
    "collapsed": false,
    "pycharm": {
     "name": "#%% 下载图片\n",
     "is_executing": false
    }
   }
  }
 ],
 "metadata": {
  "language_info": {
   "codemirror_mode": {
    "name": "ipython",
    "version": 2
   },
   "file_extension": ".py",
   "mimetype": "text/x-python",
   "name": "python",
   "nbconvert_exporter": "python",
   "pygments_lexer": "ipython2",
   "version": "2.7.6"
  },
  "kernelspec": {
   "name": "python3",
   "language": "python",
   "display_name": "Python 3"
  },
  "pycharm": {
   "stem_cell": {
    "cell_type": "raw",
    "source": [],
    "metadata": {
     "collapsed": false
    }
   }
  }
 },
 "nbformat": 4,
 "nbformat_minor": 0
}