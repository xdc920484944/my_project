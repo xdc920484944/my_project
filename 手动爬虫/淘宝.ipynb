{
 "cells": [
  {
   "cell_type": "code",
   "execution_count": null,
   "metadata": {
    "collapsed": true
   },
   "outputs": [],
   "source": [
    "import pandas\n",
    "import json\n",
    "from tool_fun import ToolFunction\n",
    "driver = ToolFunction.creat_driver(shoudong=True)\n",
    "result = []"
   ]
  },
  {
   "cell_type": "code",
   "execution_count": null,
   "outputs": [],
   "source": [
    "shops = driver.find_elements_by_xpath('//div[@class=\"item J_MouserOnverReq  \"]')\n",
    "for s in shops:\n",
    "    r = {'名称': s.find_element_by_xpath('./div[@class=\"pic-box J_MouseEneterLeave J_PicBox\"]//*[@class=\"pic-link J_ClickStat J_ItemPicA\"]').get_attribute('href'),\n",
    "         '付款人数': s.find_element_by_xpath('./div[@class=\"pic-box J_MouseEneterLeave J_PicBox\"]//*[@class=\"J_ItemPic img\"]').get_attribute('src'),\n",
    "         '价格': s.find_element_by_xpath('./div[@class=\"ctx-box J_MouseEneterLeave J_IconMoreNew\"]//*[@class=\"J_ClickStat\"]').text,\n",
    "         '商品连接': s.find_element_by_xpath('./div[@class=\"ctx-box J_MouseEneterLeave J_IconMoreNew\"]//*[@class=\"price g_price g_price-highlight\"]').text,\n",
    "         '图片连接': s.find_element_by_xpath('./div[@class=\"ctx-box J_MouseEneterLeave J_IconMoreNew\"]//*[@class=\"deal-cnt\"]').text.replace('人收货', '')}\n",
    "    result.append(r)\n",
    "print(len(result))"
   ],
   "metadata": {
    "collapsed": false,
    "pycharm": {
     "name": "#%%\n"
    }
   }
  },
  {
   "cell_type": "code",
   "execution_count": null,
   "outputs": [],
   "source": [
    "import requests\n",
    "import time\n",
    "result = pandas.read_csv('指甲贴.csv')\n",
    "proxies = ToolFunction.get_proxies('15m') \n",
    "\n",
    "r2 = pandas.DataFrame(result).to_dict()\n",
    "img_href = list(r2['付款人数'].values())\n",
    "headers = {'user-agent': 'Mozilla/5.0 (Windows NT 10.0; Win64; x64) AppleWebKit/537.36 (KHTML, like Gecko) Chrome/88.0.4324.96 Safari/537.36'}\n",
    "for href in img_href:\n",
    "    print(img_href.index(href))\n",
    "    time.sleep(0.5)\n",
    "    try:\n",
    "        img_id = href.split('/')[-2]\n",
    "        res = requests.get(url=href, headers=headers)\n",
    "        if 200 <= res.status_code < 300:\n",
    "            with open( '淘宝指甲贴/' + img_id+'.jpg', 'wb') as f:\n",
    "                f.write(res.content)\n",
    "    except Exception as e:\n",
    "        print(e.__traceback__.tb_lineno, e)\n"
   ],
   "metadata": {
    "collapsed": false,
    "pycharm": {
     "name": "#%%\n"
    }
   }
  }
 ],
 "metadata": {
  "language_info": {
   "codemirror_mode": {
    "name": "ipython",
    "version": 2
   },
   "file_extension": ".py",
   "mimetype": "text/x-python",
   "name": "python",
   "nbconvert_exporter": "python",
   "pygments_lexer": "ipython2",
   "version": "2.7.6"
  },
  "kernelspec": {
   "name": "python3",
   "language": "python",
   "display_name": "Python 3"
  },
  "pycharm": {
   "stem_cell": {
    "cell_type": "raw",
    "source": [],
    "metadata": {
     "collapsed": false
    }
   }
  }
 },
 "nbformat": 4,
 "nbformat_minor": 0
}