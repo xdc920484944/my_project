{
 "cells": [
  {
   "cell_type": "code",
   "execution_count": 4,
   "outputs": [
    {
     "name": "stdout",
     "text": [
      "b'<h1>bar!</h1>'\n",
      "b'<h1>foo!</h1>'\n消耗时间:  2.017179012298584\n"
     ],
     "output_type": "stream"
    }
   ],
   "source": [
    "import requests\n",
    "import time\n",
    "\n",
    "starttime = time.time()\n",
    "print(requests.get('http://127.0.0.1:5555/bar').content)\n",
    "print(requests.get('http://127.0.0.1:5555/foo').content)\n",
    "print(\"消耗时间: \",time.time() -starttime)"
   ],
   "metadata": {
    "collapsed": false,
    "pycharm": {
     "name": "#%%\n",
     "is_executing": false
    }
   }
  },
  {
   "cell_type": "code",
   "execution_count": 6,
   "outputs": [
    {
     "name": "stdout",
     "text": [
      "HTTP/1.0 200 OK\r\nContent-Type: text/html; charset=utf-8\r\nContent-Length: 13\r\nServer: Werkzeug/0.16.0 Python/3.7.4\r\nDate: Thu, 20 May 2021 07:52:31 GMT\r\n\r\n<h1>bar!</h1>\nHTTP/1.0 200 OK\r\nContent-Type: text/html; charset=utf-8\r\nContent-Length: 13\r\nServer: Werkzeug/0.16.0 Python/3.7.4\r\nDate: Thu, 20 May 2021 07:52:31 GMT\r\n\r\n<h1>foo!</h1>\n消耗时间： 1.0070750713348389\n"
     ],
     "output_type": "stream"
    }
   ],
   "source": [
    "import selectors\n",
    "import socket\n",
    "import time\n",
    "# from asynrequest import ParserHttp\n",
    "class asynhttp:\n",
    "    def __init__(self):\n",
    "        self.selecter = selectors.DefaultSelector()\n",
    "\n",
    "    def get(self,url,optiondict = None):\n",
    "        global reqcount\n",
    "        reqcount += 1\n",
    "        s = socket.socket()\n",
    "        s.setblocking(False)\n",
    "        try:\n",
    "            s.connect(('127.0.0.1',5555))\n",
    "        except BlockingIOError:\n",
    "            pass\n",
    "        requset = 'GET %s HTTP/1.0\\r\\n\\r\\n' % url\n",
    "        callback = lambda : self.send(s,requset)\n",
    "        self.selecter.register(s.fileno(),selectors.EVENT_WRITE,callback)\n",
    "\n",
    "    def send(self,s,requset):\n",
    "        self.selecter.unregister(s.fileno())\n",
    "        s.send(requset.encode())\n",
    "        chunks = []\n",
    "        callback = lambda: self.recv(s,chunks)\n",
    "        self.selecter.register(s.fileno(),selectors.EVENT_READ,callback)\n",
    "\n",
    "    def recv(self,s,chunks):\n",
    "        self.selecter.unregister(s.fileno())\n",
    "        chunk = s.recv(1024)\n",
    "        if chunk:\n",
    "            chunks.append(chunk)\n",
    "            callback = lambda: self.recv(s,chunks)\n",
    "            self.selecter.register(s.fileno(), selectors.EVENT_READ, callback)\n",
    "        else:\n",
    "            global reqcount\n",
    "            reqcount -= 1\n",
    "            # request_first,request_headers,request_content,_ = ParserHttp.parser(b''.join(chunks))\n",
    "            # print(\"解析数据：\",request_first,request_headers,request_content)\n",
    "            print((b''.join(chunks)).decode())\n",
    "            return (b''.join(chunks)).decode()\n",
    "\n",
    "starttime = time.time()\n",
    "reqcount = 0\n",
    "asynhttper = asynhttp()\n",
    "asynhttper.get('/bar')\n",
    "asynhttper.get('/foo')\n",
    "while reqcount:\n",
    "    events = asynhttper.selecter.select()\n",
    "    for event,mask in events:\n",
    "        func = event.data\n",
    "        func()\n",
    "print(\"消耗时间：\" ,time.time() - starttime)"
   ],
   "metadata": {
    "collapsed": false,
    "pycharm": {
     "name": "#%%\n",
     "is_executing": false
    }
   }
  }
 ],
 "metadata": {
  "language_info": {
   "codemirror_mode": {
    "name": "ipython",
    "version": 2
   },
   "file_extension": ".py",
   "mimetype": "text/x-python",
   "name": "python",
   "nbconvert_exporter": "python",
   "pygments_lexer": "ipython2",
   "version": "2.7.6"
  },
  "kernelspec": {
   "name": "python3",
   "language": "python",
   "display_name": "Python 3"
  },
  "pycharm": {
   "stem_cell": {
    "cell_type": "raw",
    "source": [],
    "metadata": {
     "collapsed": false
    }
   }
  }
 },
 "nbformat": 4,
 "nbformat_minor": 0
}