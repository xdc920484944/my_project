{
 "cells": [
  {
   "cell_type": "code",
   "execution_count": 1,
   "metadata": {
    "collapsed": true,
    "pycharm": {
     "is_executing": false,
     "name": "#%%\n"
    }
   },
   "outputs": [],
   "source": [
    "import os\n",
    "from datetime import datetime\n",
    "import tushare as ts\n",
    "import pandas as pd\n",
    "import datetime\n",
    "import requests\n",
    "from tool_fun import ToolFunction\n",
    "import re\n",
    "import json\n",
    "import tushare as ts"
   ]
  },
  {
   "cell_type": "code",
   "execution_count": 2,
   "outputs": [],
   "source": [
    "t_c = '00001.HK'\n",
    "s_d = '20210329'\n",
    "e_d = '20210329'\n",
    "pro = ts.pro_api(token='a51a57028c1ab1aa459a2fad7ebb6696e527443e75ec6f7e35a038bd')\n",
    "\n",
    "# 单日全股\n",
    "df = pd.DataFrame(pro.hk_daily(start_date=s_d))"
   ],
   "metadata": {
    "collapsed": false,
    "pycharm": {
     "name": "#%%\n",
     "is_executing": false
    }
   }
  },
  {
   "cell_type": "code",
   "execution_count": 3,
   "outputs": [
    {
     "name": "stdout",
     "text": [
      "1621237013.964341\n"
     ],
     "output_type": "stream"
    }
   ],
   "source": [
    "import datetime\n",
    "print(datetime.datetime.now().timestamp())"
   ],
   "metadata": {
    "collapsed": false,
    "pycharm": {
     "name": "#%%\n",
     "is_executing": false
    }
   }
  }
 ],
 "metadata": {
  "language_info": {
   "codemirror_mode": {
    "name": "ipython",
    "version": 2
   },
   "file_extension": ".py",
   "mimetype": "text/x-python",
   "name": "python",
   "nbconvert_exporter": "python",
   "pygments_lexer": "ipython2",
   "version": "2.7.6"
  },
  "kernelspec": {
   "name": "python3",
   "language": "python",
   "display_name": "Python 3"
  },
  "pycharm": {
   "stem_cell": {
    "cell_type": "raw",
    "source": [],
    "metadata": {
     "collapsed": false
    }
   }
  }
 },
 "nbformat": 4,
 "nbformat_minor": 0
}