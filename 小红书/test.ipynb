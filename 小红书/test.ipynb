{
 "cells": [
  {
   "cell_type": "code",
   "execution_count": 1,
   "outputs": [],
   "source": [
    "# 作者（ID，作者名称，关注量，粉丝量，获赞与收藏量，所有笔记数），笔记内容\n",
    "# 评论用户ID，用户昵称，评论内容，评论时间，点赞量，展开折叠的二级评论（用户ID，用户昵称，评论内容，评论时间，点赞量）\n",
    "import requests\n",
    "import json\n",
    "import time\n",
    "import pandas as pd\n",
    "import urllib.parse\n",
    "from appium import webdriver"
   ],
   "metadata": {
    "collapsed": false,
    "pycharm": {
     "name": "#%%\n",
     "is_executing": false
    }
   }
  },
  {
   "cell_type": "code",
   "execution_count": 15,
   "outputs": [],
   "source": [
    "page, pos = 2, 22 \n",
    "url = 'https://edith.xiaohongshu.com/api/sns/v10/search/notes?keyword=%E7%A7%91%E6%8A%80&filters=%5B%5D&sort=&page={}&page_size=20&source=explore_feed&search_id=28acbcrbzfv1867p6lxq8&session_id=28acbca440c06v01fvnk0&api_extra=&page_pos={}&pin_note_id=&allow_rewrite=1&geo=eyJsYXRpdHVkZSI6MjUuOTk3ODg1LCJsb25naXR1ZGUiOjEwNy41Njc2MzV9%0A&word_request_id=&clicked_card=&loaded_ad=&query_extra_info='\\\n",
    "    .format(page, pos)\n",
    "headers = {\n",
    "    'xy-common-params': 'deviceId=9c9f573c-136b-3bf5-959f-3f5639b4fb7f&identifier_flag=2&tz=Asia%2FShanghai&fid=161594491610c18d8d91fc652ab176f6684a66c37fc2&app_id=ECFAAF01&device_fingerprint1=202012141119216795a2c98a54fc6bfdaa735ccf33c6f501db3d94c293bdf5&uis=light&launch_id=1616123018&project_id=ECFAAF&device_fingerprint=202012141119216795a2c98a54fc6bfdaa735ccf33c6f501db3d94c293bdf5&versionName=6.83.0.1&platform=android&sid=session.1616120885852137709804&t=1616123477&build=6830229&x_trace_page_current=search_result_notes&lang=zh-Hans&channel=%E7%99%BE%E5%BA%A6%E5%93%81%E4%B8%93',\n",
    "    'shield': 'XYAAAAAQAAAAEAAABTAAAAUzUWEe0xG1IbD9/c+qCLOlKGmTtFa+lG43AGf+FURqRLlo3mm7FkH535/OYNz8N4ish+2Kc7RgxNR2COZ7Km2H0ygbIT0XbcCSUm37nzS2oX+59p',\n",
    "            #  XYAAAAAQAAAAEAAABTAAAAUzUWEe0xG1IbD9/c+qCLOlKGmTtFa+lG43AGf+FURqRLlo3mm7FkH535/OYNz8N4ish+2Kc7RgxNR2COZ7Km2H0ygbJ0GQc4CpAiFXHEOuKWn6vZ\n",
    "    'xy-platform-info': 'platform=android&build=6830229&deviceId=9c9f573c-136b-3bf5-959f-3f5639b4fb7f',\n",
    "    'User-Agent': 'Dalvik/2.1.0 (Linux; U; Android 5.1.1; OPPO R11 Plus Build/NMF26X) Resolution/900*1600 Version/6.83.0.1 Build/6830229 Device/(OPPO;OPPO R11 Plus) discover/6.83.0.1',\n",
    "    'Host': 'edith.xiaohongshu.com',\n",
    "    'Connection': 'Keep-Alive',\n",
    "    'Accept-Encoding': 'gzip'\n",
    "}\n",
    "res = requests.get(url=url, headers=headers)\n",
    "data = json.loads(res.text)"
   ],
   "metadata": {
    "collapsed": false,
    "pycharm": {
     "name": "#%%\n",
     "is_executing": false
    }
   }
  }
 ],
 "metadata": {
  "language_info": {
   "codemirror_mode": {
    "name": "ipython",
    "version": 2
   },
   "file_extension": ".py",
   "mimetype": "text/x-python",
   "name": "python",
   "nbconvert_exporter": "python",
   "pygments_lexer": "ipython2",
   "version": "2.7.6"
  },
  "kernelspec": {
   "name": "python3",
   "language": "python",
   "display_name": "Python 3"
  },
  "pycharm": {
   "stem_cell": {
    "cell_type": "raw",
    "source": [],
    "metadata": {
     "collapsed": false
    }
   }
  }
 },
 "nbformat": 4,
 "nbformat_minor": 0
}